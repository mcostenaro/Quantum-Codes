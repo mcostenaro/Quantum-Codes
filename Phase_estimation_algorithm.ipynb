{
 "cells": [
  {
   "cell_type": "markdown",
   "metadata": {},
   "source": [
    "# Phase Estimation: low precision"
   ]
  },
  {
   "cell_type": "markdown",
   "metadata": {},
   "source": [
    "Imports:"
   ]
  },
  {
   "cell_type": "markdown",
   "metadata": {},
   "source": []
  },
  {
   "cell_type": "code",
   "execution_count": 62,
   "metadata": {},
   "outputs": [
    {
     "data": {
      "text/html": [
       "<pre style=\"word-wrap: normal;white-space: pre;background: #fff0;line-height: 1.1;font-family: &quot;Courier New&quot;,Courier,monospace\">           ░ ┌───┐       ┌───┐ ░ ┌─┐\n",
       "q_0: ──────░─┤ H ├─■─────┤ H ├─░─┤M├\n",
       "     ┌───┐ ░ └───┘ │P(1) └───┘ ░ └╥┘\n",
       "q_1: ┤ X ├─░───────■───────────░──╫─\n",
       "     └───┘ ░                   ░  ║ \n",
       "c: 1/═════════════════════════════╩═\n",
       "                                  0 </pre>"
      ],
      "text/plain": [
       "           ░ ┌───┐       ┌───┐ ░ ┌─┐\n",
       "q_0: ──────░─┤ H ├─■─────┤ H ├─░─┤M├\n",
       "     ┌───┐ ░ └───┘ │P(1) └───┘ ░ └╥┘\n",
       "q_1: ┤ X ├─░───────■───────────░──╫─\n",
       "     └───┘ ░                   ░  ║ \n",
       "c: 1/═════════════════════════════╩═\n",
       "                                  0 "
      ]
     },
     "metadata": {},
     "output_type": "display_data"
    }
   ],
   "source": [
    "from math import sin, cos, pi\n",
    "from qiskit import QuantumCircuit\n",
    "\n",
    "#theta for the phase predction\n",
    "theta = 1/(2*pi)\n",
    "\n",
    "#-----------------------------------------------------------------------##--------------------------------------------------------------#\n",
    "#QUANTUM CIRCUIT \n",
    "\n",
    "#number of qubits\n",
    "\n",
    "qc = QuantumCircuit(2, 1)\n",
    "\n",
    "#add gates:\n",
    "\n",
    "#add X gate in the second qubit that is |1> for the Phase Gate, to be eigenvector for |psi> and the transformation U|psi>\n",
    "qc.x(1)\n",
    "qc.barrier()\n",
    "\n",
    "qc.h(0)\n",
    "qc.cp(2 * pi * theta, 0, 1) #add controlled phase gate (angle, control qubit, target qubit)\n",
    "qc.h(0)\n",
    "qc.barrier()\n",
    "\n",
    "#measuremente in the qubit (0) and saving in the classical bit (0)\n",
    "qc.measure(0, 0)\n",
    "\n",
    "#draing the circuit\n",
    "display(qc.draw())"
   ]
  },
  {
   "cell_type": "code",
   "execution_count": 63,
   "metadata": {},
   "outputs": [
    {
     "data": {
      "text/plain": [
       "{0: np.float64(0.77015115293407), 1: np.float64(0.22984884706593)}"
      ]
     },
     "metadata": {},
     "output_type": "display_data"
    }
   ],
   "source": [
    "from qiskit.primitives import Sampler\n",
    "\n",
    "display(Sampler().run(qc).result().quasi_dists[0])"
   ]
  },
  {
   "cell_type": "code",
   "execution_count": 64,
   "metadata": {},
   "outputs": [
    {
     "data": {
      "text/plain": [
       "{0: 0.7701511529340699, 1: 0.22984884706593015}"
      ]
     },
     "metadata": {},
     "output_type": "display_data"
    }
   ],
   "source": [
    "display({   # Calculate predicted results\n",
    "    0: cos(pi * theta) ** 2,\n",
    "    1: sin(pi * theta) ** 2\n",
    "})"
   ]
  }
 ],
 "metadata": {
  "kernelspec": {
   "display_name": "q_codes",
   "language": "python",
   "name": "python3"
  },
  "language_info": {
   "codemirror_mode": {
    "name": "ipython",
    "version": 3
   },
   "file_extension": ".py",
   "mimetype": "text/x-python",
   "name": "python",
   "nbconvert_exporter": "python",
   "pygments_lexer": "ipython3",
   "version": "3.12.3"
  }
 },
 "nbformat": 4,
 "nbformat_minor": 2
}
