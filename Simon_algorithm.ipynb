{
 "cells": [
  {
   "cell_type": "markdown",
   "metadata": {},
   "source": [
    "## Implementing the Simon's query gate (oracle) "
   ]
  },
  {
   "cell_type": "code",
   "execution_count": null,
   "metadata": {},
   "outputs": [],
   "source": [
    "import random\n",
    "import qiskit.quantum_info as qi\n",
    "from qiskit import QuantumCircuit\n",
    "import numpy as np\n",
    "\n",
    "def simon_oracle(s):\n",
    "\n",
    "    #n qubits for the f(x) input, and n for the f(x) output\n",
    "    n = len(s)\n",
    "    qc = QuantumCircuit(2 * n)\n",
    "\n",
    "    # Define a random permutation of all n bit strings. This permutation will effectively hide the string s.\n",
    "    pi = np.random.permutation(2**n)\n",
    "\n",
    "    # Now we'll define a query gate explicitly. The idea is to first define a function g(x) = min{x,x ^ s}, which\n",
    "    # is a simple function that satisfies the promise, and then we take f to be the composition of g and the random\n",
    "    # permutation pi. This gives us a random function satisfying the promise for s.\n",
    "\n",
    "    #np.zeros((n, y)) return an array 2D with x rows and y columns\n",
    "    #the hilbert space of 2*n qubits is 2**(2*n) that is equal to 4**n\n",
    "    query_gate = np.zeros((4**n, 4**n))\n",
    "\n",
    "    #the loop in x iterate above all the possible values of x (0 to (2**n)-1) representing all the states in the input register\n",
    "    #the loop in y iterate above all the possible values of y (0 to (2**n)-1) representing all the initial states in the output register (|y + f(x)>)\n",
    "    for x in range(2**n):\n",
    "        for y in range(2**n):\n",
    "            z = y ^ pi[min(x, x ^ int(s, 2))]\n",
    "            query_gate[x + 2**n * z, x + 2**n * y] = 1\n"
   ]
  }
 ],
 "metadata": {
  "kernelspec": {
   "display_name": "q_codes",
   "language": "python",
   "name": "python3"
  },
  "language_info": {
   "name": "python",
   "version": "3.12.3"
  }
 },
 "nbformat": 4,
 "nbformat_minor": 2
}
