{
 "cells": [
  {
   "cell_type": "markdown",
   "metadata": {},
   "source": [
    "## Preparing the imput - circuit implementation of a query gate"
   ]
  },
  {
   "cell_type": "markdown",
   "metadata": {},
   "source": [
    "f_1: 0 -> 0     f_2: 0 -> 0     f_3: 0 -> 1     f_4: 0 -> 1\n",
    "     1 -> 0          1 -> 1          1 -> 0          1 -> 1"
   ]
  },
  {
   "cell_type": "code",
   "execution_count": 3,
   "metadata": {},
   "outputs": [],
   "source": [
    "from qiskit import QuantumCircuit\n",
    "\n",
    "def deutsch_function(case: int):\n",
    "    #generate valid deutsch function as a QuantumCircuit\n",
    "\n",
    "    if case not in [1, 2, 3, 4]:\n",
    "        raise ValueError(\"'case' must me 1, 2, 3 or 4.\")\n",
    "\n",
    "    f = QuantumCircuit(2)\n",
    "    if case in [2, 3]:\n",
    "        f.cx(0, 1)\n",
    "    if case in [3, 4]:\n",
    "        f.x(1)\n",
    "    return f\n"
   ]
  },
  {
   "cell_type": "code",
   "execution_count": 4,
   "metadata": {},
   "outputs": [
    {
     "data": {
      "text/html": [
       "<pre style=\"word-wrap: normal;white-space: pre;background: #fff0;line-height: 1.1;font-family: &quot;Courier New&quot;,Courier,monospace\">     \n",
       "q_0: \n",
       "     \n",
       "q_1: \n",
       "     </pre>"
      ],
      "text/plain": [
       "     \n",
       "q_0: \n",
       "     \n",
       "q_1: \n",
       "     "
      ]
     },
     "metadata": {},
     "output_type": "display_data"
    },
    {
     "data": {
      "text/html": [
       "<pre style=\"word-wrap: normal;white-space: pre;background: #fff0;line-height: 1.1;font-family: &quot;Courier New&quot;,Courier,monospace\">          \n",
       "q_0: ──■──\n",
       "     ┌─┴─┐\n",
       "q_1: ┤ X ├\n",
       "     └───┘</pre>"
      ],
      "text/plain": [
       "          \n",
       "q_0: ──■──\n",
       "     ┌─┴─┐\n",
       "q_1: ┤ X ├\n",
       "     └───┘"
      ]
     },
     "metadata": {},
     "output_type": "display_data"
    },
    {
     "data": {
      "text/html": [
       "<pre style=\"word-wrap: normal;white-space: pre;background: #fff0;line-height: 1.1;font-family: &quot;Courier New&quot;,Courier,monospace\">               \n",
       "q_0: ──■───────\n",
       "     ┌─┴─┐┌───┐\n",
       "q_1: ┤ X ├┤ X ├\n",
       "     └───┘└───┘</pre>"
      ],
      "text/plain": [
       "               \n",
       "q_0: ──■───────\n",
       "     ┌─┴─┐┌───┐\n",
       "q_1: ┤ X ├┤ X ├\n",
       "     └───┘└───┘"
      ]
     },
     "metadata": {},
     "output_type": "display_data"
    },
    {
     "data": {
      "text/html": [
       "<pre style=\"word-wrap: normal;white-space: pre;background: #fff0;line-height: 1.1;font-family: &quot;Courier New&quot;,Courier,monospace\">          \n",
       "q_0: ─────\n",
       "     ┌───┐\n",
       "q_1: ┤ X ├\n",
       "     └───┘</pre>"
      ],
      "text/plain": [
       "          \n",
       "q_0: ─────\n",
       "     ┌───┐\n",
       "q_1: ┤ X ├\n",
       "     └───┘"
      ]
     },
     "metadata": {},
     "output_type": "display_data"
    }
   ],
   "source": [
    "display(deutsch_function(1).draw())\n",
    "display(deutsch_function(2).draw())\n",
    "display(deutsch_function(3).draw())\n",
    "display(deutsch_function(4).draw())"
   ]
  },
  {
   "cell_type": "markdown",
   "metadata": {},
   "source": [
    "### Deutsch_function (Uf) será implementada após a porta hadamard, seu efeito fará com que o estado anterior se transforme de acordo com a tabela\n",
    "### lembrando que para o quadradinho, eh o bit de controle e o X eh o qubit q sera flipado caso o qubit de controle for 1"
   ]
  },
  {
   "cell_type": "markdown",
   "metadata": {},
   "source": [
    "Para $f_1(x) = 0$ $\\newline$\n",
    "teremos:  $U_f \\ket{x}\\ket{y} = \\ket{x}\\ket{y \\oplus 0} = \\ket{x}\\ket{y}$"
   ]
  },
  {
   "cell_type": "markdown",
   "metadata": {},
   "source": [
    "Para $f_2(x) = x$ $\\newline$\n",
    "teremos:  $U_f \\ket{x}\\ket{y} = \\ket{x}\\ket{y \\oplus x}$"
   ]
  },
  {
   "cell_type": "markdown",
   "metadata": {},
   "source": [
    "Para $f_3(x) = 1 \\oplus x$ $\\newline$ teremos:  $U_f \\ket{x}\\ket{y} = \\ket{x}\\ket{y \\oplus (1 \\oplus x)}$"
   ]
  },
  {
   "cell_type": "markdown",
   "metadata": {},
   "source": [
    "Para $f_4(x) = 1$ $\\newline$ teremos:  $U_f \\ket{x}\\ket{y} = \\ket{x}\\ket{y \\oplus 1}$"
   ]
  },
  {
   "cell_type": "markdown",
   "metadata": {},
   "source": [
    "Ao aplicar de novo uma porta hadamard no Qubit de cima, temos que, para\n",
    "- $f_1$ teremos $\\ket{0}$ (constante)\n",
    "- $f_2$ teremos $\\ket{1}$ (balanceada)\n",
    "- $f_3$ teremos $\\ket{1}$ (balanceada)\n",
    "- $f_4$ teremos $\\ket{0}$ (constante)"
   ]
  },
  {
   "cell_type": "markdown",
   "metadata": {},
   "source": [
    "## Implementando o circuito de deutsch"
   ]
  },
  {
   "cell_type": "code",
   "execution_count": 5,
   "metadata": {},
   "outputs": [],
   "source": [
    "def deutsch_circuit(function: QuantumCircuit):\n",
    "    n = function.num_qubits - 1\n",
    "    qc = QuantumCircuit(n + 1, n) #o segundo argumento é o numero de bits classicos que terá armazenado o resultado da medida.\n",
    "\n",
    "    #se n = 1, entao, qc.x(1) aplicará uma porta CNOT no segundo qubit pois para o primeiro seria qc.x(0), já range(2) aplicará uma porta H no 2 primeiros qubits (0) e (1)\n",
    "    qc.x(n)\n",
    "    qc.h(range(n+1))\n",
    "\n",
    "    qc.barrier()\n",
    "    qc.compose(function, inplace=True) #aplica o circuito oracular, inplace = true faz com que a funcao oracular seja implementada diretamente em qc ao inves de retornar um novo circuito\n",
    "    qc.barrier()\n",
    "\n",
    "    qc.h(range(n))\n",
    "    qc.measure(range(n), range(n)) #mede os qubits de entrada e armazena os resultados nos bits clássicos correspondentes.\n",
    "\n",
    "    return qc"
   ]
  },
  {
   "cell_type": "code",
   "execution_count": 6,
   "metadata": {},
   "outputs": [
    {
     "data": {
      "text/html": [
       "<pre style=\"word-wrap: normal;white-space: pre;background: #fff0;line-height: 1.1;font-family: &quot;Courier New&quot;,Courier,monospace\">     ┌───┐      ░            ░ ┌───┐┌─┐\n",
       "q_0: ┤ H ├──────░───■────────░─┤ H ├┤M├\n",
       "     ├───┤┌───┐ ░ ┌─┴─┐┌───┐ ░ └───┘└╥┘\n",
       "q_1: ┤ X ├┤ H ├─░─┤ X ├┤ X ├─░───────╫─\n",
       "     └───┘└───┘ ░ └───┘└───┘ ░       ║ \n",
       "c: 1/════════════════════════════════╩═\n",
       "                                     0 </pre>"
      ],
      "text/plain": [
       "     ┌───┐      ░            ░ ┌───┐┌─┐\n",
       "q_0: ┤ H ├──────░───■────────░─┤ H ├┤M├\n",
       "     ├───┤┌───┐ ░ ┌─┴─┐┌───┐ ░ └───┘└╥┘\n",
       "q_1: ┤ X ├┤ H ├─░─┤ X ├┤ X ├─░───────╫─\n",
       "     └───┘└───┘ ░ └───┘└───┘ ░       ║ \n",
       "c: 1/════════════════════════════════╩═\n",
       "                                     0 "
      ]
     },
     "metadata": {},
     "output_type": "display_data"
    }
   ],
   "source": [
    "display(deutsch_circuit(deutsch_function(3)).draw())"
   ]
  },
  {
   "cell_type": "markdown",
   "metadata": {},
   "source": [
    "## Por fim, criando uma nova função que recebe $f_n, n = 1, 2, 3, 4$ e retorna \"balanceada\" ou \"constante\""
   ]
  },
  {
   "cell_type": "markdown",
   "metadata": {},
   "source": [
    "#### Usando um simulador clássico"
   ]
  },
  {
   "cell_type": "code",
   "execution_count": 7,
   "metadata": {},
   "outputs": [],
   "source": [
    "from qiskit_aer import AerSimulator\n",
    "\n",
    "def deutsch_algorithm(function: QuantumCircuit):\n",
    "    \"\"\"\n",
    "    Determine if a Deutsch function is constant or balanced.\n",
    "    \"\"\"\n",
    "    qc = deutsch_circuit(function)\n",
    "\n",
    "    result = AerSimulator().run(qc, shots=1, memory=True).result()\n",
    "    measurements = result.get_memory()\n",
    "    if measurements[0] == \"0\":\n",
    "        return \"constant\"\n",
    "    return \"balanced\""
   ]
  },
  {
   "cell_type": "code",
   "execution_count": 8,
   "metadata": {},
   "outputs": [
    {
     "data": {
      "text/plain": [
       "'constant'"
      ]
     },
     "metadata": {},
     "output_type": "display_data"
    }
   ],
   "source": [
    "f = deutsch_function(4)\n",
    "display(deutsch_algorithm(f))"
   ]
  }
 ],
 "metadata": {
  "kernelspec": {
   "display_name": "q_codes",
   "language": "python",
   "name": "python3"
  },
  "language_info": {
   "codemirror_mode": {
    "name": "ipython",
    "version": 3
   },
   "file_extension": ".py",
   "mimetype": "text/x-python",
   "name": "python",
   "nbconvert_exporter": "python",
   "pygments_lexer": "ipython3",
   "version": "3.12.3"
  }
 },
 "nbformat": 4,
 "nbformat_minor": 2
}
