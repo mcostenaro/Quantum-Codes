{
 "cells": [
  {
   "cell_type": "markdown",
   "metadata": {},
   "source": [
    "# Deutsch-Jozsa"
   ]
  },
  {
   "cell_type": "markdown",
   "metadata": {},
   "source": [
    "## Implementando f como um circuito de forma aleatória"
   ]
  },
  {
   "cell_type": "markdown",
   "metadata": {},
   "source": [
    "Para a função constante:\n",
    "dj deve atuar como um circuito que recebe os imputs dos n qubits e trasnforma o qubit n+1 (auxiliar) em (q_aux + f(x))\n",
    "então, f(x) não pode depender do imput, logo, o código começa com 50% de chance de ser constante, e se isso for o caso, tem 50% do qubit auxiliar continuar igual ou flipar com a porta X\n"
   ]
  },
  {
   "cell_type": "markdown",
   "metadata": {},
   "source": [
    "Para a fumção balanceada: escolha-se metade dos estados possíveis em \"on_state\", dessa forma, Uf age apenas nestes estados da seguinte forma:\n",
    "caso um estado marcado passe pelo circuito, este vai fazer com que o qubit auxiliar flipe, ficando |q_aux + 1>, significando que f(|s>) = 1 para o estado |s> que está marcado.\n",
    "\n",
    "para que isso aconteca, o código verifica os estados marcados e flipa q_aux com o multi-control-X-gate (mcx), onde caso o estado seja |111...1> o q_aux é flipado. Dessa forma, é preciso transformar o estado s em |111...1> com a porta X nos qubits especificos ligado ao bit do bitstring s, onde após o mcx, é adicionado mais um X para voltar ao estado anterior |s>.\n",
    "\n",
    "lembrando que as portas operam em todos os estados, mas pela configuração das portas, apenas os estados marcados farão com que f(x) = 1. fazendo isso, não significa que os estados passarão um por um e mudar f(x) no resultado final, o que acontece é apenas a implementação do funcionamento de f(x) com o circuito.\n"
   ]
  },
  {
   "cell_type": "code",
   "execution_count": 2,
   "metadata": {},
   "outputs": [],
   "source": [
    "from qiskit import QuantumCircuit\n",
    "import numpy as np\n",
    "\n",
    "def dj_function(num_qubits):\n",
    "    \"\"\"\n",
    "    Create a random Deutsch-Jozsa function.\n",
    "    \"\"\"\n",
    "\n",
    "    qc = QuantumCircuit(num_qubits + 1)\n",
    "    if np.random.randint(0, 2):\n",
    "        # Flip output qubit with 50% chance\n",
    "        qc.x(num_qubits)\n",
    "    if np.random.randint(0, 2):\n",
    "        # return constant circuit with 50% chance\n",
    "        return qc\n",
    "\n",
    "    # next, choose half the possible input states\n",
    "    on_states = np.random.choice(\n",
    "        range(2**num_qubits),  # numbers to sample from\n",
    "        2**num_qubits // 2,  # number of samples\n",
    "        replace=False,  # makes sure states are only sampled once\n",
    "    )\n",
    "\n",
    "    def add_cx(qc, bit_string):\n",
    "        for qubit, bit in enumerate(reversed(bit_string)):\n",
    "            if bit == \"1\":\n",
    "                qc.x(qubit)\n",
    "        return qc\n",
    "\n",
    "    for state in on_states:\n",
    "        qc.barrier()  # Barriers are added to help visualize how the functions are created. They can safely be removed.\n",
    "        qc = add_cx(qc, f\"{state:0b}\")\n",
    "        qc.mcx(list(range(num_qubits)), num_qubits)\n",
    "        qc = add_cx(qc, f\"{state:0b}\")\n",
    "\n",
    "    qc.barrier()\n",
    "\n",
    "    return qc"
   ]
  },
  {
   "cell_type": "code",
   "execution_count": 3,
   "metadata": {},
   "outputs": [
    {
     "data": {
      "text/html": [
       "<pre style=\"word-wrap: normal;white-space: pre;background: #fff0;line-height: 1.1;font-family: &quot;Courier New&quot;,Courier,monospace\">          \n",
       "q_0: ─────\n",
       "          \n",
       "q_1: ─────\n",
       "          \n",
       "q_2: ─────\n",
       "     ┌───┐\n",
       "q_3: ┤ X ├\n",
       "     └───┘</pre>"
      ],
      "text/plain": [
       "          \n",
       "q_0: ─────\n",
       "          \n",
       "q_1: ─────\n",
       "          \n",
       "q_2: ─────\n",
       "     ┌───┐\n",
       "q_3: ┤ X ├\n",
       "     └───┘"
      ]
     },
     "metadata": {},
     "output_type": "display_data"
    }
   ],
   "source": [
    "display(dj_function(3).draw())"
   ]
  },
  {
   "cell_type": "code",
   "execution_count": 4,
   "metadata": {},
   "outputs": [],
   "source": [
    "def compile_circuit(function: QuantumCircuit):\n",
    "    \"\"\"\n",
    "    Compiles a circuit for use in the Deutsch-Jozsa algorithm.\n",
    "    \"\"\"\n",
    "    n = function.num_qubits - 1\n",
    "    qc = QuantumCircuit(n + 1, n)\n",
    "    qc.x(n)\n",
    "    qc.h(range(n + 1))\n",
    "    qc.compose(function, inplace=True)\n",
    "    qc.h(range(n))\n",
    "    qc.measure(range(n), range(n))\n",
    "    return qc"
   ]
  },
  {
   "cell_type": "code",
   "execution_count": 5,
   "metadata": {},
   "outputs": [],
   "source": [
    "from qiskit_aer import AerSimulator\n",
    "\n",
    "def dj_algorithm(function: QuantumCircuit):\n",
    "    \"\"\"\n",
    "    Determine if a Deutsch-Jozsa function is constant or balanced.\n",
    "    \"\"\"\n",
    "    qc = compile_circuit(function)\n",
    "\n",
    "    result = AerSimulator().run(qc, shots=1, memory=True).result()\n",
    "    measurements = result.get_memory()\n",
    "    if \"1\" in measurements[0]:\n",
    "        return \"balanced\"\n",
    "    return \"constant\""
   ]
  },
  {
   "cell_type": "code",
   "execution_count": 6,
   "metadata": {},
   "outputs": [
    {
     "data": {
      "text/html": [
       "<pre style=\"word-wrap: normal;white-space: pre;background: #fff0;line-height: 1.1;font-family: &quot;Courier New&quot;,Courier,monospace\">     \n",
       "q_0: \n",
       "     \n",
       "q_1: \n",
       "     \n",
       "q_2: \n",
       "     \n",
       "q_3: \n",
       "     \n",
       "q_4: \n",
       "     </pre>"
      ],
      "text/plain": [
       "     \n",
       "q_0: \n",
       "     \n",
       "q_1: \n",
       "     \n",
       "q_2: \n",
       "     \n",
       "q_3: \n",
       "     \n",
       "q_4: \n",
       "     "
      ]
     },
     "metadata": {},
     "output_type": "display_data"
    },
    {
     "data": {
      "text/plain": [
       "'constant'"
      ]
     },
     "metadata": {},
     "output_type": "display_data"
    }
   ],
   "source": [
    "f = dj_function(4)\n",
    "display(f.draw())\n",
    "display(dj_algorithm(f))"
   ]
  },
  {
   "cell_type": "markdown",
   "metadata": {},
   "source": [
    "# Berstein-Vazirani problem"
   ]
  },
  {
   "cell_type": "markdown",
   "metadata": {},
   "source": [
    "Definindo uma função que implementa uma query gate par ao problema de B.V. dado uma string binária \"s\""
   ]
  },
  {
   "cell_type": "markdown",
   "metadata": {},
   "source": [
    "para que f(x) = s * x seja implementado, os bits \"1\" do bitsring s, fará com que os bits de x naquela posição permanecam no resultado.\n",
    "ex: s = 1001, então s*x = x_3 + x_0 (mod 2), logo para que f(x) = q_3 + q_0 (mod 2), implementa-se uma X gate em q_0 e q_3.\n"
   ]
  },
  {
   "cell_type": "code",
   "execution_count": 14,
   "metadata": {},
   "outputs": [],
   "source": [
    "def bv_function(s):\n",
    "    qc = QuantumCircuit(len(s) + 1)\n",
    "    for index, bit in enumerate(reversed(s)):\n",
    "        if bit == \"1\":\n",
    "            qc.cx(index, len(s))\n",
    "    return qc"
   ]
  },
  {
   "cell_type": "code",
   "execution_count": null,
   "metadata": {},
   "outputs": [
    {
     "data": {
      "text/html": [
       "<pre style=\"word-wrap: normal;white-space: pre;background: #fff0;line-height: 1.1;font-family: &quot;Courier New&quot;,Courier,monospace\">                                    \n",
       " q_0: ──■───────────────────────────\n",
       "        │                           \n",
       " q_1: ──┼───────────────────────────\n",
       "        │                           \n",
       " q_2: ──┼────■──────────────────────\n",
       "        │    │                      \n",
       " q_3: ──┼────┼────■─────────────────\n",
       "        │    │    │                 \n",
       " q_4: ──┼────┼────┼────■────────────\n",
       "        │    │    │    │            \n",
       " q_5: ──┼────┼────┼────┼────────────\n",
       "        │    │    │    │            \n",
       " q_6: ──┼────┼────┼────┼────■───────\n",
       "        │    │    │    │    │       \n",
       " q_7: ──┼────┼────┼────┼────┼───────\n",
       "        │    │    │    │    │       \n",
       " q_8: ──┼────┼────┼────┼────┼───────\n",
       "        │    │    │    │    │       \n",
       " q_9: ──┼────┼────┼────┼────┼────■──\n",
       "      ┌─┴─┐┌─┴─┐┌─┴─┐┌─┴─┐┌─┴─┐┌─┴─┐\n",
       "q_10: ┤ X ├┤ X ├┤ X ├┤ X ├┤ X ├┤ X ├\n",
       "      └───┘└───┘└───┘└───┘└───┘└───┘</pre>"
      ],
      "text/plain": [
       "                                    \n",
       " q_0: ──■───────────────────────────\n",
       "        │                           \n",
       " q_1: ──┼───────────────────────────\n",
       "        │                           \n",
       " q_2: ──┼────■──────────────────────\n",
       "        │    │                      \n",
       " q_3: ──┼────┼────■─────────────────\n",
       "        │    │    │                 \n",
       " q_4: ──┼────┼────┼────■────────────\n",
       "        │    │    │    │            \n",
       " q_5: ──┼────┼────┼────┼────────────\n",
       "        │    │    │    │            \n",
       " q_6: ──┼────┼────┼────┼────■───────\n",
       "        │    │    │    │    │       \n",
       " q_7: ──┼────┼────┼────┼────┼───────\n",
       "        │    │    │    │    │       \n",
       " q_8: ──┼────┼────┼────┼────┼───────\n",
       "        │    │    │    │    │       \n",
       " q_9: ──┼────┼────┼────┼────┼────■──\n",
       "      ┌─┴─┐┌─┴─┐┌─┴─┐┌─┴─┐┌─┴─┐┌─┴─┐\n",
       "q_10: ┤ X ├┤ X ├┤ X ├┤ X ├┤ X ├┤ X ├\n",
       "      └───┘└───┘└───┘└───┘└───┘└───┘"
      ]
     },
     "metadata": {},
     "output_type": "display_data"
    },
    {
     "data": {
      "text/plain": [
       "'1001011101'"
      ]
     },
     "metadata": {},
     "output_type": "display_data"
    },
    {
     "ename": "",
     "evalue": "",
     "output_type": "error",
     "traceback": [
      "\u001b[1;31mThe Kernel crashed while executing code in the current cell or a previous cell. \n",
      "\u001b[1;31mPlease review the code in the cell(s) to identify a possible cause of the failure. \n",
      "\u001b[1;31mClick <a href='https://aka.ms/vscodeJupyterKernelCrash'>here</a> for more info. \n",
      "\u001b[1;31mView Jupyter <a href='command:jupyter.viewOutput'>log</a> for further details."
     ]
    }
   ],
   "source": [
    "def bv_algorithm(function: QuantumCircuit):\n",
    "    qc = compile_circuit(function)\n",
    "    result = AerSimulator().run(qc, shots=1, memory=True).result()\n",
    "    return result.get_memory()[0]\n",
    "\n",
    "display(bv_function(\"1001011101\").draw())\n",
    "\n",
    "display(bv_algorithm(bv_function(\"1001011101\")))"
   ]
  }
 ],
 "metadata": {
  "kernelspec": {
   "display_name": "q_codes",
   "language": "python",
   "name": "python3"
  },
  "language_info": {
   "codemirror_mode": {
    "name": "ipython",
    "version": 3
   },
   "file_extension": ".py",
   "mimetype": "text/x-python",
   "name": "python",
   "nbconvert_exporter": "python",
   "pygments_lexer": "ipython3",
   "version": "3.12.3"
  }
 },
 "nbformat": 4,
 "nbformat_minor": 2
}
